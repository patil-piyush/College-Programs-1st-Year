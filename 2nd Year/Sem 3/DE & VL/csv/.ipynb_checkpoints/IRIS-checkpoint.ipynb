{
 "cells": [
  {
   "cell_type": "code",
   "execution_count": 12,
   "id": "13cbd5ce",
   "metadata": {},
   "outputs": [
    {
     "name": "stdout",
     "output_type": "stream",
     "text": [
      "       sepal_length  sepal_width  petal_length  petal_width      species\n",
      "Index                                                                   \n",
      "5               5.4          3.9           1.7          0.4  Iris-setosa\n",
      "6               4.6          3.4           1.4          0.3  Iris-setosa\n",
      "7               5.0          3.4           1.5          0.2  Iris-setosa\n",
      "       sepal_length  sepal_width  petal_length  petal_width      species\n",
      "Index                                                                   \n",
      "A               5.4          3.9           1.7          0.4  Iris-setosa\n",
      "B               4.6          3.4           1.4          0.3  Iris-setosa\n",
      "C               5.0          3.4           1.5          0.2  Iris-setosa\n",
      "   sepal_length  sepal_width  petal_length  petal_width      species\n",
      "0           5.4          3.9           1.7          0.4  Iris-setosa\n",
      "1           4.6          3.4           1.4          0.3  Iris-setosa\n",
      "2           5.0          3.4           1.5          0.2  Iris-setosa\n"
     ]
    }
   ],
   "source": [
    "import pandas as pd\n",
    "\n",
    "df = pd.read_csv('IRIS.csv')\n",
    "\n",
    "\n",
    "#creating range index\n",
    "df = pd.DataFrame(df,index=pd.RangeIndex(5,8,name='Index'))\n",
    "print(df)\n",
    "\n",
    "#renaming of the indices\n",
    "df.rename(index = {5:'A',6:'B',7:'C'},inplace=True)\n",
    "print(df)\n",
    "\n",
    "#writting the data in a other csv file\n",
    "df.to_csv('output1.csv',index=False)\n",
    "df1=pd.read_csv('output.csv')\n",
    "df1=pd.DataFrame(df1)\n",
    "print(df1)\n",
    "\n",
    "\n",
    "\n"
   ]
  },
  {
   "cell_type": "code",
   "execution_count": null,
   "id": "ac179c53",
   "metadata": {},
   "outputs": [],
   "source": []
  }
 ],
 "metadata": {
  "kernelspec": {
   "display_name": "Python 3 (ipykernel)",
   "language": "python",
   "name": "python3"
  },
  "language_info": {
   "codemirror_mode": {
    "name": "ipython",
    "version": 3
   },
   "file_extension": ".py",
   "mimetype": "text/x-python",
   "name": "python",
   "nbconvert_exporter": "python",
   "pygments_lexer": "ipython3",
   "version": "3.9.7"
  }
 },
 "nbformat": 4,
 "nbformat_minor": 5
}
