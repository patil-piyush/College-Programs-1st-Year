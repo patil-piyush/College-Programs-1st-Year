{
 "cells": [
  {
   "cell_type": "code",
   "execution_count": 7,
   "id": "a05fe504",
   "metadata": {},
   "outputs": [
    {
     "name": "stdout",
     "output_type": "stream",
     "text": [
      "       sepalLength  sepalWidth  petalLength  petalWidth species\n",
      "Index                                                          \n",
      "5              5.4         3.9          1.7         0.4  setosa\n",
      "6              4.6         3.4          1.4         0.3  setosa\n",
      "7              5.0         3.4          1.5         0.2  setosa\n",
      "       sepalLength  sepalWidth  petalLength  petalWidth species\n",
      "Index                                                          \n",
      "A              5.4         3.9          1.7         0.4  setosa\n",
      "B              4.6         3.4          1.4         0.3  setosa\n",
      "C              5.0         3.4          1.5         0.2  setosa\n",
      "   sepalLength  sepalWidth  petalLength  petalWidth species\n",
      "0          5.4         3.9          1.7         0.4  setosa\n",
      "1          4.6         3.4          1.4         0.3  setosa\n",
      "2          5.0         3.4          1.5         0.2  setosa\n"
     ]
    }
   ],
   "source": [
    "import pandas as pd\n",
    "\n",
    "# Read JSON file into DataFrame\n",
    "df = pd.read_json('IRIS.json')\n",
    "\n",
    "# Create a range index\n",
    "df = pd.DataFrame(df, index=pd.RangeIndex(5, 8, name='Index'))\n",
    "print(df)\n",
    "\n",
    "# Rename the indices\n",
    "df.rename(index={5: 'A', 6: 'B', 7: 'C'}, inplace=True)\n",
    "print(df)\n",
    "\n",
    "# Write the data to a JSON file with 'split' orientation to exclude the index\n",
    "df.to_json('output1.json', orient='split', index=False)\n",
    "\n",
    "# Read the JSON file into a new DataFrame\n",
    "df1 = pd.read_json('output1.json', orient='split')\n",
    "print(df1)\n"
   ]
  },
  {
   "cell_type": "code",
   "execution_count": null,
   "id": "3bee141a",
   "metadata": {},
   "outputs": [],
   "source": []
  }
 ],
 "metadata": {
  "kernelspec": {
   "display_name": "Python 3 (ipykernel)",
   "language": "python",
   "name": "python3"
  },
  "language_info": {
   "codemirror_mode": {
    "name": "ipython",
    "version": 3
   },
   "file_extension": ".py",
   "mimetype": "text/x-python",
   "name": "python",
   "nbconvert_exporter": "python",
   "pygments_lexer": "ipython3",
   "version": "3.9.7"
  }
 },
 "nbformat": 4,
 "nbformat_minor": 5
}
