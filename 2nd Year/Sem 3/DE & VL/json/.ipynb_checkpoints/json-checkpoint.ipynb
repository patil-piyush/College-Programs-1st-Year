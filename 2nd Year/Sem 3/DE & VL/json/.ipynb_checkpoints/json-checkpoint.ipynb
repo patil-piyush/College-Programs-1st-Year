{
 "cells": [
  {
   "cell_type": "code",
   "execution_count": 7,
   "id": "a05fe504",
   "metadata": {},
   "outputs": [
    {
     "name": "stdout",
     "output_type": "stream",
     "text": [
      "       sepalLength  sepalWidth  petalLength  petalWidth species\n",
      "Index                                                          \n",
      "5              5.4         3.9          1.7         0.4  setosa\n",
      "6              4.6         3.4          1.4         0.3  setosa\n",
      "7              5.0         3.4          1.5         0.2  setosa\n",
      "       sepalLength  sepalWidth  petalLength  petalWidth species\n",
      "Index                                                          \n",
      "A              5.4         3.9          1.7         0.4  setosa\n",
      "B              4.6         3.4          1.4         0.3  setosa\n",
      "C              5.0         3.4          1.5         0.2  setosa\n",
      "   sepalLength  sepalWidth  petalLength  petalWidth species\n",
      "0          5.4         3.9          1.7         0.4  setosa\n",
      "1          4.6         3.4          1.4         0.3  setosa\n",
      "2          5.0         3.4          1.5         0.2  setosa\n"
     ]
    }
   ],
   "source": [
    "import pandas as pd\n",
    "\n",
    "# Read JSON file into DataFrame\n",
    "df = pd.read_json('IRIS.json')\n",
    "\n",
    "# Create a range index\n",
    "df = pd.DataFrame(df, index=pd.RangeIndex(5, 8, name='Index'))\n",
    "print(df)\n",
    "\n",
    "# Rename the indices\n",
    "df.rename(index={5: 'A', 6: 'B', 7: 'C'}, inplace=True)\n",
    "print(df)\n",
    "\n",
    "# Write the data to a JSON file with 'split' orientation to exclude the index\n",
    "df.to_json('output1.json', orient='split', index=False)\n",
    "\n",
    "# Read the JSON file into a new DataFrame\n",
    "df1 = pd.read_json('output1.json', orient='split')\n",
    "print(df1)\n"
   ]
  },
  {
   "cell_type": "code",
   "execution_count": 2,
   "id": "3bee141a",
   "metadata": {},
   "outputs": [
    {
     "name": "stdout",
     "output_type": "stream",
     "text": [
      "   sepalLength  sepalWidth  petalLength  petalWidth species\n",
      "0          5.1         3.5          1.4         0.2  setosa\n",
      "1          4.9         3.0          1.4         0.2  setosa\n",
      "2          4.7         3.2          1.3         0.2  setosa\n",
      "3          4.6         3.1          1.5         0.2  setosa\n",
      "4          5.0         3.6          1.4         0.2  setosa\n",
      "5          5.4         3.9          1.7         0.4  setosa\n",
      "6          4.6         3.4          1.4         0.3  setosa\n",
      "7          5.0         3.4          1.5         0.2  setosa\n",
      "8          4.4         2.9          1.4         0.2  setosa\n",
      "9          4.9         3.1          1.5         0.1  setosa\n"
     ]
    }
   ],
   "source": [
    "import pandas as pd\n",
    "\n",
    "# Read JSON file into DataFrame\n",
    "df = pd.read_json('IRIS.json')\n",
    "\n",
    "print(df.head(10))"
   ]
  },
  {
   "cell_type": "code",
   "execution_count": 3,
   "id": "e9c6f6da-951d-4146-89c3-dac2be471c3a",
   "metadata": {},
   "outputs": [
    {
     "name": "stdout",
     "output_type": "stream",
     "text": [
      "     sepalLength  sepalWidth  petalLength  petalWidth    species\n",
      "145          6.7         3.0          5.2         2.3  virginica\n",
      "146          6.3         2.5          5.0         1.9  virginica\n",
      "147          6.5         3.0          5.2         2.0  virginica\n",
      "148          6.2         3.4          5.4         2.3  virginica\n",
      "149          5.9         3.0          5.1         1.8  virginica\n"
     ]
    }
   ],
   "source": [
    "import pandas as pd\n",
    "\n",
    "# Read JSON file into DataFrame\n",
    "df = pd.read_json('IRIS.json')\n",
    "\n",
    "print(df.tail()) "
   ]
  },
  {
   "cell_type": "code",
   "execution_count": 4,
   "id": "a2c5d55f-b17a-4558-991a-525700dec03e",
   "metadata": {},
   "outputs": [
    {
     "name": "stdout",
     "output_type": "stream",
     "text": [
      "<class 'pandas.core.frame.DataFrame'>\n",
      "RangeIndex: 150 entries, 0 to 149\n",
      "Data columns (total 5 columns):\n",
      " #   Column       Non-Null Count  Dtype  \n",
      "---  ------       --------------  -----  \n",
      " 0   sepalLength  150 non-null    float64\n",
      " 1   sepalWidth   150 non-null    float64\n",
      " 2   petalLength  150 non-null    float64\n",
      " 3   petalWidth   150 non-null    float64\n",
      " 4   species      150 non-null    object \n",
      "dtypes: float64(4), object(1)\n",
      "memory usage: 6.0+ KB\n",
      "None\n"
     ]
    }
   ],
   "source": [
    "import pandas as pd\n",
    "\n",
    "# Read JSON file into DataFrame\n",
    "df = pd.read_json('IRIS.json')\n",
    "\n",
    "print(df.info()) "
   ]
  }
 ],
 "metadata": {
  "kernelspec": {
   "display_name": "Python 3 (ipykernel)",
   "language": "python",
   "name": "python3"
  },
  "language_info": {
   "codemirror_mode": {
    "name": "ipython",
    "version": 3
   },
   "file_extension": ".py",
   "mimetype": "text/x-python",
   "name": "python",
   "nbconvert_exporter": "python",
   "pygments_lexer": "ipython3",
   "version": "3.12.5"
  }
 },
 "nbformat": 4,
 "nbformat_minor": 5
}
